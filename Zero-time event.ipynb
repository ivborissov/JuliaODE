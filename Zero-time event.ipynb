{
 "cells": [
  {
   "cell_type": "code",
   "execution_count": 16,
   "metadata": {},
   "outputs": [],
   "source": [
    "using DiffEqBase, OrdinaryDiffEq, DiffEqCallbacks\n",
    "\n",
    "### ODE\n",
    "function ode_(du, u, p, t)\n",
    "    (C,S2,k1,k2) = p\n",
    "    (S1,S3) = u \n",
    "\n",
    "    reaction1 = C * k1 * S1 * S2\n",
    "    reaction2 = C * k2 * S3\n",
    "\n",
    "    \n",
    "    du[1] = -reaction1+reaction2  # dS1/dt\n",
    "    du[2] =  reaction1-reaction2  # dS3/dt\n",
    "end\n",
    "\n",
    "# initial values and parameters\n",
    "u0 = [0.0, 0.0] # S1, S3\n",
    "p0 = [1.0, 2.0, 0.75, 0.25] # C, S2, k1, k2\n",
    ";"
   ]
  },
  {
   "cell_type": "code",
   "execution_count": 5,
   "metadata": {},
   "outputs": [
    {
     "data": {
      "text/plain": [
       "DiscreteCallback{typeof(zero_cb_condition1),typeof(zero_cb_assignment1),typeof(DiffEqBase.INITIALIZE_DEFAULT)}(zero_cb_condition1, zero_cb_assignment1, DiffEqBase.INITIALIZE_DEFAULT, Bool[1, 1])"
      ]
     },
     "execution_count": 5,
     "metadata": {},
     "output_type": "execute_result"
    }
   ],
   "source": [
    "## variant 1 : condition tprev == 0\n",
    "zero_cb_condition1(u,t,integrator) = integrator.tprev == 0.0\n",
    "\n",
    "zero_cb_assignment1(integrator) = integrator.u .= [1.0,1.0]\n",
    "\n",
    "zero_cb1 = DiscreteCallback(zero_cb_condition1,zero_cb_assignment1,save_positions=(true,true))"
   ]
  },
  {
   "cell_type": "code",
   "execution_count": 6,
   "metadata": {},
   "outputs": [
    {
     "data": {
      "text/plain": [
       "retcode: Success\n",
       "Interpolation: 1st order linear\n",
       "t: 3-element Array{Float64,1}:\n",
       " 0.0\n",
       " 9.999999999999999e-5\n",
       " 9.999999999999999e-5\n",
       "u: 3-element Array{Array{Float64,1},1}:\n",
       " [0.0, 0.0]\n",
       " [0.0, 0.0]\n",
       " [1.0, 1.0]"
      ]
     },
     "execution_count": 6,
     "metadata": {},
     "output_type": "execute_result"
    }
   ],
   "source": [
    "prob1 = ODEProblem(ode_, u0, (0.,3.), p0, callback=zero_cb1)\n",
    "sol1 = solve(prob1, Vern9(),\n",
    "        save_end = false,\n",
    "        save_everystep = false,\n",
    ")"
   ]
  },
  {
   "cell_type": "code",
   "execution_count": 17,
   "metadata": {},
   "outputs": [
    {
     "data": {
      "text/plain": [
       "DiscreteCallback{typeof(zero_cb_condition2),typeof(zero_cb_assignment2),var\"#11#12\"}(zero_cb_condition2, zero_cb_assignment2, var\"#11#12\"(), Bool[1, 1])"
      ]
     },
     "execution_count": 17,
     "metadata": {},
     "output_type": "execute_result"
    }
   ],
   "source": [
    "## variant 2 : callabck initialization\n",
    "zero_cb_condition2(u,t,integrator) = false\n",
    "\n",
    "zero_cb_assignment2(integrator) = integrator.u .= [1.0,1.0]\n",
    "\n",
    "zero_cb2 = DiscreteCallback(zero_cb_condition2,zero_cb_assignment2, \n",
    "    initialize =  (c,t,u,integrator)->c.affect!(integrator), save_positions=(true,true))"
   ]
  },
  {
   "cell_type": "code",
   "execution_count": 18,
   "metadata": {},
   "outputs": [
    {
     "data": {
      "text/plain": [
       "retcode: Success\n",
       "Interpolation: 1st order linear\n",
       "t: 3-element Array{Float64,1}:\n",
       " 0.0\n",
       " 9.999999999999999e-5\n",
       " 9.999999999999999e-5\n",
       "u: 3-element Array{Array{Float64,1},1}:\n",
       " [0.0, 0.0]\n",
       " [0.0, 0.0]\n",
       " [1.0, 1.0]"
      ]
     },
     "execution_count": 18,
     "metadata": {},
     "output_type": "execute_result"
    }
   ],
   "source": [
    "prob2 = ODEProblem(ode_, u0, (0.,3.), p0, callback=zero_cb2)\n",
    "sol2 = solve(prob1, Vern9(),\n",
    "        save_end = false,\n",
    "        save_everystep = false,\n",
    ")"
   ]
  },
  {
   "cell_type": "code",
   "execution_count": null,
   "metadata": {},
   "outputs": [],
   "source": []
  }
 ],
 "metadata": {
  "kernelspec": {
   "display_name": "Julia 1.4.2",
   "language": "julia",
   "name": "julia-1.4"
  },
  "language_info": {
   "file_extension": ".jl",
   "mimetype": "application/julia",
   "name": "julia",
   "version": "1.4.2"
  }
 },
 "nbformat": 4,
 "nbformat_minor": 2
}
