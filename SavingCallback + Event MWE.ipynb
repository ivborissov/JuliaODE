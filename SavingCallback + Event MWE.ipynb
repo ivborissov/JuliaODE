{
 "cells": [
  {
   "cell_type": "code",
   "execution_count": null,
   "metadata": {},
   "outputs": [],
   "source": [
    "# MWE of ContinuousCallback + SavingCallback"
   ]
  },
  {
   "cell_type": "code",
   "execution_count": 22,
   "metadata": {},
   "outputs": [],
   "source": [
    "using DiffEqBase, OrdinaryDiffEq, DiffEqCallbacks, DataFrames\n",
    "\n",
    "### ODE\n",
    "function ode_(du, u, p, t)\n",
    "    (C,S2,k1,k2) = p\n",
    "    (S1,S3) = u \n",
    "\n",
    "    reaction1 = C * k1 * S1 * S2\n",
    "    reaction2 = C * k2 * S3\n",
    "\n",
    "    du .= [\n",
    "      -reaction1+reaction2,  # dS1/dt\n",
    "      reaction1-reaction2,  # dS3/dt\n",
    "    ]\n",
    "end\n",
    "\n",
    "### events\n",
    "event1_condition_(u, t, integrator) = 0.75 - u[1]\n",
    "\n",
    "function event1_assignment_(integrator)\n",
    "    # check if saveat points are present before applying the event\n",
    "    save_func! = integrator.opts.callback.discrete_callbacks[1].affect!\n",
    "    save_func!(integrator)\n",
    "    \n",
    "    # save point before event\n",
    "    save_func!(integrator, true)\n",
    "    \n",
    "    #event\n",
    "    integrator.p[2] = 1.0\n",
    "    \n",
    "    # save point after event\n",
    "    save_func!(integrator, true)\n",
    "end\n",
    "\n",
    "event2_condition_(u, t, integrator) = u[2] - 1.4\n",
    "\n",
    "function event2_assignment_(integrator)\n",
    "    # check if saveat points are present before applying the event\n",
    "    save_func! = integrator.opts.callback.discrete_callbacks[1].affect!\n",
    "    save_func!(integrator)\n",
    "        \n",
    "    # save point before event\n",
    "    save_func!(integrator, true)\n",
    "    \n",
    "    # event\n",
    "    integrator.u[1] = 1.0\n",
    "    \n",
    "    # save point after event\n",
    "    save_func!(integrator, true)\n",
    "end\n",
    "\n",
    "event1 = ContinuousCallback(event1_condition_, event1_assignment_,\n",
    "        save_positions=(false,false)\n",
    ")\n",
    "\n",
    "event2 = ContinuousCallback(event2_condition_, event2_assignment_,\n",
    "        save_positions=(false,false)\n",
    ")\n",
    "\n",
    "### output function\n",
    "saving_(u, t, integrator) = [u[1], integrator.p[2], u[2]] # S1, S2, S3\n",
    "out = SavedValues(Float64, Vector{Float64})\n",
    "scb = SavingCallback(saving_, out, saveat=saveat)\n",
    "\n",
    "### Callback set\n",
    "cbset = CallbackSet(\n",
    "    scb, \n",
    "    event1, event2,\n",
    ");"
   ]
  },
  {
   "cell_type": "code",
   "execution_count": 23,
   "metadata": {},
   "outputs": [
    {
     "data": {
      "text/plain": [
       "\u001b[36mODEProblem\u001b[0m with uType \u001b[36mArray{Float64,1}\u001b[0m and tType \u001b[36mFloat64\u001b[0m. In-place: \u001b[36mtrue\u001b[0m\n",
       "timespan: (0.0, 3.0)\n",
       "u0: [1.0, 1.0]"
      ]
     },
     "execution_count": 23,
     "metadata": {},
     "output_type": "execute_result"
    }
   ],
   "source": [
    "# solver options\n",
    "tspan = (0.0, 3.0)\n",
    "step = 0.06\n",
    "saveat = collect(range(tspan[1],tspan[2], step=step))\n",
    "abstol = 1e-3\n",
    "reltol = 1e-3\n",
    "\n",
    "# initial values and parameters\n",
    "u0 = [1.0, 1.0] # S1, S3\n",
    "p0 = [1.0, 2.0, 0.75, 0.25] # C, S2, k1, k2\n",
    "\n",
    "# ODE Problem\n",
    "prob = ODEProblem(ode_, u0, tspan, p0, callback=cbset)"
   ]
  },
  {
   "cell_type": "code",
   "execution_count": 24,
   "metadata": {},
   "outputs": [
    {
     "data": {
      "text/plain": [
       "retcode: Success\n",
       "Interpolation: 1st order linear\n",
       "t: 0-element Array{Float64,1}\n",
       "u: 0-element Array{Array{Float64,1},1}"
      ]
     },
     "execution_count": 24,
     "metadata": {},
     "output_type": "execute_result"
    }
   ],
   "source": [
    "#solving the problem\n",
    "sol = solve(prob, Vern9(), reltol=reltol, abstol=abstol,\n",
    "        save_start = false,\n",
    "        save_end = false,\n",
    "        save_everystep = false,\n",
    ")"
   ]
  },
  {
   "cell_type": "code",
   "execution_count": 25,
   "metadata": {},
   "outputs": [
    {
     "data": {
      "text/html": [
       "<table class=\"data-frame\"><thead><tr><th></th><th>t</th><th>S1</th><th>S2</th><th>S3</th></tr><tr><th></th><th>Float64</th><th>Float64</th><th>Float64</th><th>Float64</th></tr></thead><tbody><p>57 rows × 4 columns</p><tr><th>1</th><td>0.0</td><td>1.0</td><td>2.0</td><td>1.0</td></tr><tr><th>2</th><td>0.06</td><td>0.928803</td><td>2.0</td><td>1.0712</td></tr><tr><th>3</th><td>0.12</td><td>0.864703</td><td>2.0</td><td>1.1353</td></tr><tr><th>4</th><td>0.18</td><td>0.806992</td><td>2.0</td><td>1.19301</td></tr><tr><th>5</th><td>0.24</td><td>0.755033</td><td>2.0</td><td>1.24497</td></tr><tr><th>6</th><td>0.246162</td><td>0.75</td><td>2.0</td><td>1.25</td></tr><tr><th>7</th><td>0.246162</td><td>0.75</td><td>1.0</td><td>1.25</td></tr><tr><th>8</th><td>0.3</td><td>0.736896</td><td>1.0</td><td>1.2631</td></tr><tr><th>9</th><td>0.36</td><td>0.723101</td><td>1.0</td><td>1.2769</td></tr><tr><th>10</th><td>0.42</td><td>0.710108</td><td>1.0</td><td>1.28989</td></tr><tr><th>11</th><td>0.48</td><td>0.697872</td><td>1.0</td><td>1.30213</td></tr><tr><th>12</th><td>0.54</td><td>0.686349</td><td>1.0</td><td>1.31365</td></tr><tr><th>13</th><td>0.6</td><td>0.675497</td><td>1.0</td><td>1.3245</td></tr><tr><th>14</th><td>0.66</td><td>0.665277</td><td>1.0</td><td>1.33472</td></tr><tr><th>15</th><td>0.72</td><td>0.655652</td><td>1.0</td><td>1.34435</td></tr><tr><th>16</th><td>0.78</td><td>0.646588</td><td>1.0</td><td>1.35341</td></tr><tr><th>17</th><td>0.84</td><td>0.638051</td><td>1.0</td><td>1.36195</td></tr><tr><th>18</th><td>0.9</td><td>0.630011</td><td>1.0</td><td>1.36999</td></tr><tr><th>19</th><td>0.96</td><td>0.62244</td><td>1.0</td><td>1.37756</td></tr><tr><th>20</th><td>1.02</td><td>0.61531</td><td>1.0</td><td>1.38469</td></tr><tr><th>21</th><td>1.0648</td><td>0.6</td><td>1.0</td><td>1.4</td></tr><tr><th>22</th><td>1.0648</td><td>1.0</td><td>1.0</td><td>1.4</td></tr><tr><th>23</th><td>1.08</td><td>0.993965</td><td>1.0</td><td>1.40604</td></tr><tr><th>24</th><td>1.14</td><td>0.971022</td><td>1.0</td><td>1.42898</td></tr><tr><th>25</th><td>1.2</td><td>0.949415</td><td>1.0</td><td>1.45058</td></tr><tr><th>26</th><td>1.26</td><td>0.929067</td><td>1.0</td><td>1.47093</td></tr><tr><th>27</th><td>1.32</td><td>0.909904</td><td>1.0</td><td>1.4901</td></tr><tr><th>28</th><td>1.38</td><td>0.891856</td><td>1.0</td><td>1.50814</td></tr><tr><th>29</th><td>1.44</td><td>0.87486</td><td>1.0</td><td>1.52514</td></tr><tr><th>30</th><td>1.5</td><td>0.858853</td><td>1.0</td><td>1.54115</td></tr><tr><th>&vellip;</th><td>&vellip;</td><td>&vellip;</td><td>&vellip;</td><td>&vellip;</td></tr></tbody></table>"
      ],
      "text/latex": [
       "\\begin{tabular}{r|cccc}\n",
       "\t& t & S1 & S2 & S3\\\\\n",
       "\t\\hline\n",
       "\t& Float64 & Float64 & Float64 & Float64\\\\\n",
       "\t\\hline\n",
       "\t1 & 0.0 & 1.0 & 2.0 & 1.0 \\\\\n",
       "\t2 & 0.06 & 0.928803 & 2.0 & 1.0712 \\\\\n",
       "\t3 & 0.12 & 0.864703 & 2.0 & 1.1353 \\\\\n",
       "\t4 & 0.18 & 0.806992 & 2.0 & 1.19301 \\\\\n",
       "\t5 & 0.24 & 0.755033 & 2.0 & 1.24497 \\\\\n",
       "\t6 & 0.246162 & 0.75 & 2.0 & 1.25 \\\\\n",
       "\t7 & 0.246162 & 0.75 & 1.0 & 1.25 \\\\\n",
       "\t8 & 0.3 & 0.736896 & 1.0 & 1.2631 \\\\\n",
       "\t9 & 0.36 & 0.723101 & 1.0 & 1.2769 \\\\\n",
       "\t10 & 0.42 & 0.710108 & 1.0 & 1.28989 \\\\\n",
       "\t11 & 0.48 & 0.697872 & 1.0 & 1.30213 \\\\\n",
       "\t12 & 0.54 & 0.686349 & 1.0 & 1.31365 \\\\\n",
       "\t13 & 0.6 & 0.675497 & 1.0 & 1.3245 \\\\\n",
       "\t14 & 0.66 & 0.665277 & 1.0 & 1.33472 \\\\\n",
       "\t15 & 0.72 & 0.655652 & 1.0 & 1.34435 \\\\\n",
       "\t16 & 0.78 & 0.646588 & 1.0 & 1.35341 \\\\\n",
       "\t17 & 0.84 & 0.638051 & 1.0 & 1.36195 \\\\\n",
       "\t18 & 0.9 & 0.630011 & 1.0 & 1.36999 \\\\\n",
       "\t19 & 0.96 & 0.62244 & 1.0 & 1.37756 \\\\\n",
       "\t20 & 1.02 & 0.61531 & 1.0 & 1.38469 \\\\\n",
       "\t21 & 1.0648 & 0.6 & 1.0 & 1.4 \\\\\n",
       "\t22 & 1.0648 & 1.0 & 1.0 & 1.4 \\\\\n",
       "\t23 & 1.08 & 0.993965 & 1.0 & 1.40604 \\\\\n",
       "\t24 & 1.14 & 0.971022 & 1.0 & 1.42898 \\\\\n",
       "\t25 & 1.2 & 0.949415 & 1.0 & 1.45058 \\\\\n",
       "\t26 & 1.26 & 0.929067 & 1.0 & 1.47093 \\\\\n",
       "\t27 & 1.32 & 0.909904 & 1.0 & 1.4901 \\\\\n",
       "\t28 & 1.38 & 0.891856 & 1.0 & 1.50814 \\\\\n",
       "\t29 & 1.44 & 0.87486 & 1.0 & 1.52514 \\\\\n",
       "\t30 & 1.5 & 0.858853 & 1.0 & 1.54115 \\\\\n",
       "\t$\\dots$ & $\\dots$ & $\\dots$ & $\\dots$ & $\\dots$ \\\\\n",
       "\\end{tabular}\n"
      ],
      "text/plain": [
       "57×4 DataFrame\n",
       "│ Row │ t        │ S1       │ S2      │ S3      │\n",
       "│     │ \u001b[90mFloat64\u001b[39m  │ \u001b[90mFloat64\u001b[39m  │ \u001b[90mFloat64\u001b[39m │ \u001b[90mFloat64\u001b[39m │\n",
       "├─────┼──────────┼──────────┼─────────┼─────────┤\n",
       "│ 1   │ 0.0      │ 1.0      │ 2.0     │ 1.0     │\n",
       "│ 2   │ 0.06     │ 0.928803 │ 2.0     │ 1.0712  │\n",
       "│ 3   │ 0.12     │ 0.864703 │ 2.0     │ 1.1353  │\n",
       "│ 4   │ 0.18     │ 0.806992 │ 2.0     │ 1.19301 │\n",
       "│ 5   │ 0.24     │ 0.755033 │ 2.0     │ 1.24497 │\n",
       "│ 6   │ 0.246162 │ 0.75     │ 2.0     │ 1.25    │\n",
       "│ 7   │ 0.246162 │ 0.75     │ 1.0     │ 1.25    │\n",
       "│ 8   │ 0.3      │ 0.736896 │ 1.0     │ 1.2631  │\n",
       "│ 9   │ 0.36     │ 0.723101 │ 1.0     │ 1.2769  │\n",
       "│ 10  │ 0.42     │ 0.710108 │ 1.0     │ 1.28989 │\n",
       "⋮\n",
       "│ 47  │ 2.4      │ 0.705242 │ 1.0     │ 1.69476 │\n",
       "│ 48  │ 2.46     │ 0.699113 │ 1.0     │ 1.70089 │\n",
       "│ 49  │ 2.52     │ 0.693341 │ 1.0     │ 1.70666 │\n",
       "│ 50  │ 2.58     │ 0.687905 │ 1.0     │ 1.71209 │\n",
       "│ 51  │ 2.64     │ 0.682786 │ 1.0     │ 1.71721 │\n",
       "│ 52  │ 2.7      │ 0.677965 │ 1.0     │ 1.72203 │\n",
       "│ 53  │ 2.76     │ 0.673425 │ 1.0     │ 1.72658 │\n",
       "│ 54  │ 2.82     │ 0.669149 │ 1.0     │ 1.73085 │\n",
       "│ 55  │ 2.88     │ 0.665122 │ 1.0     │ 1.73488 │\n",
       "│ 56  │ 2.94     │ 0.66133  │ 1.0     │ 1.73867 │\n",
       "│ 57  │ 3.0      │ 0.657758 │ 1.0     │ 1.74224 │"
      ]
     },
     "execution_count": 25,
     "metadata": {},
     "output_type": "execute_result"
    }
   ],
   "source": [
    "# print results\n",
    "DataFrame(\n",
    "    t=out.t, \n",
    "    S1=[sv[1] for sv in out.saveval], \n",
    "    S2=[sv[2] for sv in out.saveval], \n",
    "    S3=[sv[3] for sv in out.saveval]\n",
    ")"
   ]
  },
  {
   "cell_type": "code",
   "execution_count": null,
   "metadata": {},
   "outputs": [],
   "source": [
    "# Here the second event happened at t = 1.0648, which is wrong\n",
    "# The correct answer (t = 1.16) can be obtained by limiting dtmax"
   ]
  },
  {
   "cell_type": "code",
   "execution_count": 26,
   "metadata": {},
   "outputs": [
    {
     "data": {
      "text/plain": [
       "retcode: Success\n",
       "Interpolation: 1st order linear\n",
       "t: 0-element Array{Float64,1}\n",
       "u: 0-element Array{Array{Float64,1},1}"
      ]
     },
     "execution_count": 26,
     "metadata": {},
     "output_type": "execute_result"
    }
   ],
   "source": [
    "dtmax = step/3\n",
    "\n",
    "# initial values and parameters\n",
    "u0 = [1.0, 1.0] # S1, S3\n",
    "p0 = [1.0, 2.0, 0.75, 0.25] # C, S2, k1, k2\n",
    "\n",
    "# ODE Problem\n",
    "prob = ODEProblem(ode_, u0, tspan, p0, callback=cbset)\n",
    "sol = solve(prob, Vern9(), reltol=reltol, abstol=abstol,\n",
    "        dtmax=dtmax,\n",
    "        save_start = false,\n",
    "        save_end = false,\n",
    "        save_everystep = false,\n",
    ")"
   ]
  },
  {
   "cell_type": "code",
   "execution_count": 27,
   "metadata": {},
   "outputs": [
    {
     "data": {
      "text/html": [
       "<table class=\"data-frame\"><thead><tr><th></th><th>t</th><th>S1</th><th>S2</th><th>S3</th></tr><tr><th></th><th>Float64</th><th>Float64</th><th>Float64</th><th>Float64</th></tr></thead><tbody><p>57 rows × 4 columns</p><tr><th>1</th><td>0.0</td><td>1.0</td><td>2.0</td><td>1.0</td></tr><tr><th>2</th><td>0.06</td><td>0.928803</td><td>2.0</td><td>1.0712</td></tr><tr><th>3</th><td>0.12</td><td>0.864703</td><td>2.0</td><td>1.1353</td></tr><tr><th>4</th><td>0.18</td><td>0.806992</td><td>2.0</td><td>1.19301</td></tr><tr><th>5</th><td>0.24</td><td>0.755033</td><td>2.0</td><td>1.24497</td></tr><tr><th>6</th><td>0.246162</td><td>0.75</td><td>2.0</td><td>1.25</td></tr><tr><th>7</th><td>0.246162</td><td>0.75</td><td>1.0</td><td>1.25</td></tr><tr><th>8</th><td>0.3</td><td>0.736896</td><td>1.0</td><td>1.2631</td></tr><tr><th>9</th><td>0.36</td><td>0.723101</td><td>1.0</td><td>1.2769</td></tr><tr><th>10</th><td>0.42</td><td>0.710108</td><td>1.0</td><td>1.28989</td></tr><tr><th>11</th><td>0.48</td><td>0.697872</td><td>1.0</td><td>1.30213</td></tr><tr><th>12</th><td>0.54</td><td>0.686349</td><td>1.0</td><td>1.31365</td></tr><tr><th>13</th><td>0.6</td><td>0.675497</td><td>1.0</td><td>1.3245</td></tr><tr><th>14</th><td>0.66</td><td>0.665277</td><td>1.0</td><td>1.33472</td></tr><tr><th>15</th><td>0.72</td><td>0.655652</td><td>1.0</td><td>1.34435</td></tr><tr><th>16</th><td>0.78</td><td>0.646588</td><td>1.0</td><td>1.35341</td></tr><tr><th>17</th><td>0.84</td><td>0.638051</td><td>1.0</td><td>1.36195</td></tr><tr><th>18</th><td>0.9</td><td>0.630011</td><td>1.0</td><td>1.36999</td></tr><tr><th>19</th><td>0.96</td><td>0.62244</td><td>1.0</td><td>1.37756</td></tr><tr><th>20</th><td>1.02</td><td>0.61531</td><td>1.0</td><td>1.38469</td></tr><tr><th>21</th><td>1.08</td><td>0.608595</td><td>1.0</td><td>1.39141</td></tr><tr><th>22</th><td>1.14</td><td>0.602271</td><td>1.0</td><td>1.39773</td></tr><tr><th>23</th><td>1.16248</td><td>0.6</td><td>1.0</td><td>1.4</td></tr><tr><th>24</th><td>1.16248</td><td>1.0</td><td>1.0</td><td>1.4</td></tr><tr><th>25</th><td>1.2</td><td>0.985272</td><td>1.0</td><td>1.41473</td></tr><tr><th>26</th><td>1.26</td><td>0.962835</td><td>1.0</td><td>1.43716</td></tr><tr><th>27</th><td>1.32</td><td>0.941705</td><td>1.0</td><td>1.45829</td></tr><tr><th>28</th><td>1.38</td><td>0.921806</td><td>1.0</td><td>1.47819</td></tr><tr><th>29</th><td>1.44</td><td>0.903065</td><td>1.0</td><td>1.49693</td></tr><tr><th>30</th><td>1.5</td><td>0.885416</td><td>1.0</td><td>1.51458</td></tr><tr><th>&vellip;</th><td>&vellip;</td><td>&vellip;</td><td>&vellip;</td><td>&vellip;</td></tr></tbody></table>"
      ],
      "text/latex": [
       "\\begin{tabular}{r|cccc}\n",
       "\t& t & S1 & S2 & S3\\\\\n",
       "\t\\hline\n",
       "\t& Float64 & Float64 & Float64 & Float64\\\\\n",
       "\t\\hline\n",
       "\t1 & 0.0 & 1.0 & 2.0 & 1.0 \\\\\n",
       "\t2 & 0.06 & 0.928803 & 2.0 & 1.0712 \\\\\n",
       "\t3 & 0.12 & 0.864703 & 2.0 & 1.1353 \\\\\n",
       "\t4 & 0.18 & 0.806992 & 2.0 & 1.19301 \\\\\n",
       "\t5 & 0.24 & 0.755033 & 2.0 & 1.24497 \\\\\n",
       "\t6 & 0.246162 & 0.75 & 2.0 & 1.25 \\\\\n",
       "\t7 & 0.246162 & 0.75 & 1.0 & 1.25 \\\\\n",
       "\t8 & 0.3 & 0.736896 & 1.0 & 1.2631 \\\\\n",
       "\t9 & 0.36 & 0.723101 & 1.0 & 1.2769 \\\\\n",
       "\t10 & 0.42 & 0.710108 & 1.0 & 1.28989 \\\\\n",
       "\t11 & 0.48 & 0.697872 & 1.0 & 1.30213 \\\\\n",
       "\t12 & 0.54 & 0.686349 & 1.0 & 1.31365 \\\\\n",
       "\t13 & 0.6 & 0.675497 & 1.0 & 1.3245 \\\\\n",
       "\t14 & 0.66 & 0.665277 & 1.0 & 1.33472 \\\\\n",
       "\t15 & 0.72 & 0.655652 & 1.0 & 1.34435 \\\\\n",
       "\t16 & 0.78 & 0.646588 & 1.0 & 1.35341 \\\\\n",
       "\t17 & 0.84 & 0.638051 & 1.0 & 1.36195 \\\\\n",
       "\t18 & 0.9 & 0.630011 & 1.0 & 1.36999 \\\\\n",
       "\t19 & 0.96 & 0.62244 & 1.0 & 1.37756 \\\\\n",
       "\t20 & 1.02 & 0.61531 & 1.0 & 1.38469 \\\\\n",
       "\t21 & 1.08 & 0.608595 & 1.0 & 1.39141 \\\\\n",
       "\t22 & 1.14 & 0.602271 & 1.0 & 1.39773 \\\\\n",
       "\t23 & 1.16248 & 0.6 & 1.0 & 1.4 \\\\\n",
       "\t24 & 1.16248 & 1.0 & 1.0 & 1.4 \\\\\n",
       "\t25 & 1.2 & 0.985272 & 1.0 & 1.41473 \\\\\n",
       "\t26 & 1.26 & 0.962835 & 1.0 & 1.43716 \\\\\n",
       "\t27 & 1.32 & 0.941705 & 1.0 & 1.45829 \\\\\n",
       "\t28 & 1.38 & 0.921806 & 1.0 & 1.47819 \\\\\n",
       "\t29 & 1.44 & 0.903065 & 1.0 & 1.49693 \\\\\n",
       "\t30 & 1.5 & 0.885416 & 1.0 & 1.51458 \\\\\n",
       "\t$\\dots$ & $\\dots$ & $\\dots$ & $\\dots$ & $\\dots$ \\\\\n",
       "\\end{tabular}\n"
      ],
      "text/plain": [
       "57×4 DataFrame\n",
       "│ Row │ t        │ S1       │ S2      │ S3      │\n",
       "│     │ \u001b[90mFloat64\u001b[39m  │ \u001b[90mFloat64\u001b[39m  │ \u001b[90mFloat64\u001b[39m │ \u001b[90mFloat64\u001b[39m │\n",
       "├─────┼──────────┼──────────┼─────────┼─────────┤\n",
       "│ 1   │ 0.0      │ 1.0      │ 2.0     │ 1.0     │\n",
       "│ 2   │ 0.06     │ 0.928803 │ 2.0     │ 1.0712  │\n",
       "│ 3   │ 0.12     │ 0.864703 │ 2.0     │ 1.1353  │\n",
       "│ 4   │ 0.18     │ 0.806992 │ 2.0     │ 1.19301 │\n",
       "│ 5   │ 0.24     │ 0.755033 │ 2.0     │ 1.24497 │\n",
       "│ 6   │ 0.246162 │ 0.75     │ 2.0     │ 1.25    │\n",
       "│ 7   │ 0.246162 │ 0.75     │ 1.0     │ 1.25    │\n",
       "│ 8   │ 0.3      │ 0.736896 │ 1.0     │ 1.2631  │\n",
       "│ 9   │ 0.36     │ 0.723101 │ 1.0     │ 1.2769  │\n",
       "│ 10  │ 0.42     │ 0.710108 │ 1.0     │ 1.28989 │\n",
       "⋮\n",
       "│ 47  │ 2.4      │ 0.716042 │ 1.0     │ 1.68396 │\n",
       "│ 48  │ 2.46     │ 0.709284 │ 1.0     │ 1.69072 │\n",
       "│ 49  │ 2.52     │ 0.70292  │ 1.0     │ 1.69708 │\n",
       "│ 50  │ 2.58     │ 0.696926 │ 1.0     │ 1.70307 │\n",
       "│ 51  │ 2.64     │ 0.691282 │ 1.0     │ 1.70872 │\n",
       "│ 52  │ 2.7      │ 0.685966 │ 1.0     │ 1.71403 │\n",
       "│ 53  │ 2.76     │ 0.680959 │ 1.0     │ 1.71904 │\n",
       "│ 54  │ 2.82     │ 0.676245 │ 1.0     │ 1.72376 │\n",
       "│ 55  │ 2.88     │ 0.671805 │ 1.0     │ 1.7282  │\n",
       "│ 56  │ 2.94     │ 0.667623 │ 1.0     │ 1.73238 │\n",
       "│ 57  │ 3.0      │ 0.663685 │ 1.0     │ 1.73632 │"
      ]
     },
     "execution_count": 27,
     "metadata": {},
     "output_type": "execute_result"
    }
   ],
   "source": [
    "# print results\n",
    "DataFrame(\n",
    "    t=out.t, \n",
    "    S1=[sv[1] for sv in out.saveval], \n",
    "    S2=[sv[2] for sv in out.saveval], \n",
    "    S3=[sv[3] for sv in out.saveval]\n",
    ")"
   ]
  },
  {
   "cell_type": "code",
   "execution_count": null,
   "metadata": {},
   "outputs": [],
   "source": []
  }
 ],
 "metadata": {
  "kernelspec": {
   "display_name": "Julia 1.2.0",
   "language": "julia",
   "name": "julia-1.2"
  },
  "language_info": {
   "file_extension": ".jl",
   "mimetype": "application/julia",
   "name": "julia",
   "version": "1.2.0"
  }
 },
 "nbformat": 4,
 "nbformat_minor": 2
}
