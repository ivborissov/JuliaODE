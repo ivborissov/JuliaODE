{
 "cells": [
  {
   "cell_type": "code",
   "execution_count": 12,
   "metadata": {},
   "outputs": [
    {
     "data": {
      "text/plain": [
       "(0.0, 5.0)"
      ]
     },
     "execution_count": 12,
     "metadata": {},
     "output_type": "execute_result"
    }
   ],
   "source": [
    "using OrdinaryDiffEq, DiffEqBase, DiffEqCallbacks\n",
    "\n",
    "function ode_(du, u, p, t)\n",
    "    (compartment,k1) = p\n",
    "    (S1_,S2_) = u \n",
    "\n",
    "    # Heta rules\n",
    "    S2 = S2_ / compartment\n",
    "    S1 = S1_ / compartment\n",
    "    reaction1 = compartment * k1 * S1\n",
    "    \n",
    "    du[1] = -reaction1 # dS1_/dt\n",
    "    du[2] = reaction1  # dS2_/dt\n",
    "end\n",
    "\n",
    "# continuous function\n",
    "event1_condition_(u, t, integrator) = u[1]/integrator.p[1] - 0.1\n",
    "# indicator function\n",
    "event2_condition_(u, t, integrator) = u[1]/integrator.p[1] < 0.1 ? 1 : -1\n",
    "\n",
    "function event_assignment_(integrator)\n",
    "    # recalculated values\n",
    "    integrator.u[1] = 1.0*integrator.p[1]\n",
    "end\n",
    "\n",
    "event1 = ContinuousCallback(\n",
    "    event1_condition_, event_assignment_,\n",
    "    save_positions=(true,true)\n",
    ")\n",
    "\n",
    "event2 = ContinuousCallback(\n",
    "    event2_condition_, event_assignment_,\n",
    "    save_positions=(true,true)\n",
    ")\n",
    "\n",
    "u0 = [1.,0.]\n",
    "p0 = [1.,1.]\n",
    "\n",
    "tspan = (0.,5.)"
   ]
  },
  {
   "cell_type": "code",
   "execution_count": 16,
   "metadata": {},
   "outputs": [
    {
     "data": {
      "text/plain": [
       "retcode: Success\n",
       "Interpolation: 1st order linear\n",
       "t: 4-element Array{Float64,1}:\n",
       " 2.302568828034347\n",
       " 2.302568828034347\n",
       " 4.60514662886198\n",
       " 4.60514662886198\n",
       "u: 4-element Array{Array{Float64,1},1}:\n",
       " [0.10000000000000005, 0.9000000000000001]\n",
       " [1.0, 0.9000000000000001]\n",
       " [0.10000000000000002, 1.8]\n",
       " [1.0, 1.8]"
      ]
     },
     "execution_count": 16,
     "metadata": {},
     "output_type": "execute_result"
    }
   ],
   "source": [
    "# ODE Problem with continuous callback function\n",
    "prob1 = ODEProblem(ode_, u0, tspan, p0,callback=event1)\n",
    "\n",
    "sol1 = solve(prob1, Tsit5(), \n",
    "        save_start = false,\n",
    "        save_end = false,\n",
    "        save_everystep = false,\n",
    ")"
   ]
  },
  {
   "cell_type": "code",
   "execution_count": 17,
   "metadata": {},
   "outputs": [
    {
     "data": {
      "text/plain": [
       "retcode: Success\n",
       "Interpolation: 1st order linear\n",
       "t: 4-element Array{Float64,1}:\n",
       " 2.3025688280343473\n",
       " 2.3025688280343473\n",
       " 4.605146628861981\n",
       " 4.605146628861981\n",
       "u: 4-element Array{Array{Float64,1},1}:\n",
       " [0.1, 0.9000000000000002]\n",
       " [1.0, 0.9000000000000002]\n",
       " [0.10000000000000002, 1.8]\n",
       " [1.0, 1.8]"
      ]
     },
     "execution_count": 17,
     "metadata": {},
     "output_type": "execute_result"
    }
   ],
   "source": [
    "# ODE Problem with indicator function as callback\n",
    "prob2 = ODEProblem(ode_, u0, tspan, p0,callback=event2)\n",
    "\n",
    "sol2 = solve(prob2, Tsit5(), \n",
    "        save_start = false,\n",
    "        save_end = false,\n",
    "        save_everystep = false,\n",
    ")"
   ]
  },
  {
   "cell_type": "code",
   "execution_count": null,
   "metadata": {},
   "outputs": [],
   "source": []
  }
 ],
 "metadata": {
  "kernelspec": {
   "display_name": "Julia 1.4.2",
   "language": "julia",
   "name": "julia-1.4"
  },
  "language_info": {
   "file_extension": ".jl",
   "mimetype": "application/julia",
   "name": "julia",
   "version": "1.4.2"
  }
 },
 "nbformat": 4,
 "nbformat_minor": 4
}
